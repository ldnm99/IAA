{
 "cells": [
  {
   "cell_type": "markdown",
   "id": "25a9bca0-c677-4533-8f05-b7752202235f",
   "metadata": {
    "tags": []
   },
   "source": [
    "# Main Code\n",
    "\n"
   ]
  },
  {
   "cell_type": "code",
   "execution_count": 10,
   "id": "a0fc99e6-3be7-4142-a60a-dc9b53276232",
   "metadata": {},
   "outputs": [],
   "source": [
    "import random\n",
    "import sys\n",
    "import timeit\n",
    "import statistics\n",
    "import matplotlib.pyplot as plt\n",
    "import numpy as np\n",
    "from operator import itemgetter\n",
    "\n",
    "\n",
    "class Environment():\n",
    "    \n",
    "    def __init__(self):\n",
    "        self.pattern = 0\n",
    "        self.Nbits = [2,4,8,12,16]\n",
    "        self.runtime = []\n",
    "        self.turns = []\n",
    "        self.runs = 30\n",
    "        self.population = 100\n",
    "        self.percent = 30      # % of the population thats best \n",
    "        self.mutationrate = 1  # chance to mutate\n",
    "        \n",
    "    def generatePattern(self,size): #1a\n",
    "        bitList = []\n",
    "        for i in range(0, size):\n",
    "            x = str(random.randint(0, 1))\n",
    "            bitList.append(x)\n",
    "        bitString = ''.join(bitList)\n",
    "        return bitString        \n",
    "    \n",
    "    def hamming(self, pattern2):\n",
    "        return sum(bit1 != bit2 for bit1, bit2 in zip(self.pattern, pattern2))\n",
    "    \n",
    "    def reverse_hamming(self, pattern2):\n",
    "        return sum(bit1 == bit2 for bit1, bit2 in zip(self.pattern, pattern2))\n",
    "    \n",
    "    def tolist(self,pattern):\n",
    "        return [char for char in pattern]\n",
    "    \n",
    "    def tostring(self,pattern):\n",
    "        return ''.join(pattern)\n",
    "    \n",
    "    \n",
    "    def evaluate(self, population):\n",
    "        points = []\n",
    "        a = 0\n",
    "        for a in range(0, len(population)):\n",
    "            points.append(self.reverse_hamming(population[a]))\n",
    "            a += 1\n",
    "        return points\n",
    "    \n",
    "    #returns the best 30% fitness\n",
    "    def select(self, tuples):\n",
    "        return tuples[:e.percent]\n",
    "        \n",
    "    def merge_sort(self,population, points):\n",
    "         # merge the fitness and patterns lists\n",
    "        temp = list(zip(population, points))      \n",
    "        # sort the list by the higher fitness to lower\n",
    "        tuples = sorted(temp, key=itemgetter(1), reverse=True)\n",
    "        return tuples\n",
    "    \n",
    "    def mutate(self, pattern):\n",
    "        index = random.randint(0,len(pattern)-1)\n",
    "        if(pattern[index] == '0'):\n",
    "            pattern[index] = '1'\n",
    "        elif(pattern[index] == '1'):\n",
    "            pattern[index] = '0'  \n",
    "        return pattern\n",
    "    \n",
    "    \n",
    "    # crossover two parents to create two children\n",
    "    def crossover(self, parent1, parent2):\n",
    "        # children are copies of parents by default\n",
    "        p1, p2 = parent1[0], parent2[0]\n",
    "        # select crossover point that is not on the end of the string\n",
    "        if(len(p1) > 2):\n",
    "            point = random.randint(1, len(p1)-2)\n",
    "        else:\n",
    "            point = random.randint(1, len(p1)-1)\n",
    "        # perform crossover\n",
    "        children1 = p1[:point] + p2[point:]\n",
    "        children2 = p2[:point] + p1[point:]\n",
    "        return [children1, children2]\n",
    "    \n",
    "    \n",
    "    "
   ]
  },
  {
   "cell_type": "markdown",
   "id": "8f5025c7-d2bd-45ec-b935-860d5e233b85",
   "metadata": {
    "jp-MarkdownHeadingCollapsed": true,
    "tags": []
   },
   "source": [
    "# Ex1b\n"
   ]
  },
  {
   "cell_type": "code",
   "execution_count": 4,
   "id": "d50f1a1c-e0cc-4d2b-9e1c-68ba21e0c90b",
   "metadata": {},
   "outputs": [
    {
     "data": {
      "image/png": "[encoded data removed]",
      "text/plain": [
       "<Figure size 432x288 with 1 Axes>"
      ]
     },
     "metadata": {
      "needs_background": "light"
     },
     "output_type": "display_data"
    },
    {
     "data": {
      "image/png": "[encoded data removed]",
      "text/plain": [
       "<Figure size 432x288 with 1 Axes>"
      ]
     },
     "metadata": {
      "needs_background": "light"
     },
     "output_type": "display_data"
    },
    {
     "name": "stdout",
     "output_type": "stream",
     "text": [
      "O número de turnos necessários aumenta consoante maior o tamanho do padrão devido ao facto de os padrões serem gerados randomly\n"
     ]
    }
   ],
   "source": [
    "random.seed(1)\n",
    "e = Environment()\n",
    "runtimes = []\n",
    "turns = []\n",
    "\n",
    "#60 seconds * 60 minutes stopping at 1hour\n",
    "durantion = 60*60\n",
    "deadline = timeit.default_timer() \n",
    "\n",
    "while timeit.default_timer()  < deadline + durantion:\n",
    "    for x in e.Nbits:\n",
    "            runtime = []\n",
    "            attempts = []\n",
    "            for y in range(0, e.runs):\n",
    "                #generating the correct pattern\n",
    "                e.pattern = e.generatePattern(x)    \n",
    "                test = 0\n",
    "                turn = 0\n",
    "                start = timeit.default_timer()    \n",
    "                #generates patterns and checks if they match the correct one     \n",
    "                while(test != e.pattern):    \n",
    "                    test = e.generatePattern(x)        \n",
    "                    turn += 1\n",
    "                stop = timeit.default_timer()\n",
    "                runtime.append(stop-start)    \n",
    "                attempts.append(turn)   \n",
    "            runtimes.append(runtime)\n",
    "            turns.append(attempts)\n",
    "            \n",
    "            \n",
    "    plt.ylabel('Runtimes')\n",
    "    plt.xlabel('Nº Bits')\n",
    "    plt.title('Runtimes/Nºbits')\n",
    "    plt.boxplot(runtimes, positions = e.Nbits)      \n",
    "    plt.yscale(\"log\")\n",
    "    plt.show()\n",
    "\n",
    "               \n",
    "    plt.ylabel('Turns')\n",
    "    plt.xlabel('Nº Bits')\n",
    "    plt.title('Turns/Nºbits')\n",
    "    plt.boxplot(turns, positions = e.Nbits)     \n",
    "    plt.yscale(\"log\")\n",
    "    plt.show()\n",
    "    print('O número de turnos necessários aumenta consoante maior o tamanho do padrão devido ao facto de os padrões serem gerados randomly')\n",
    "    break"
   ]
  },
  {
   "cell_type": "markdown",
   "id": "7f9970f7-443f-4871-9556-03022303d94e",
   "metadata": {
    "jp-MarkdownHeadingCollapsed": true,
    "tags": []
   },
   "source": [
    "# Ex2"
   ]
  },
  {
   "cell_type": "code",
   "execution_count": 8,
   "id": "bbf6679a-7beb-4898-a514-73859df3b3ed",
   "metadata": {},
   "outputs": [
    {
     "data": {
      "image/png": "[encoded data removed]",
      "text/plain": [
       "<Figure size 432x288 with 1 Axes>"
      ]
     },
     "metadata": {
      "needs_background": "light"
     },
     "output_type": "display_data"
    },
    {
     "data": {
      "image/png": "[encoded data removed]",
      "text/plain": [
       "<Figure size 432x288 with 1 Axes>"
      ]
     },
     "metadata": {
      "needs_background": "light"
     },
     "output_type": "display_data"
    },
    {
     "name": "stdout",
     "output_type": "stream",
     "text": [
      "Com o aumento do tamanho dos padrões é mais dificil atingir o padrão objetivo no entanto é possível observar uma redução dos números de turnos necessário para atingir o resultado\n",
      "É possível então observar que para tamanhos de padrões elevados que não cheguem ao objetivo existirá sempre uma mutação que melhorará o valor de fitness\n"
     ]
    }
   ],
   "source": [
    "random.seed(1)\n",
    "e = Environment()\n",
    "runtimes = []\n",
    "mutations = []\n",
    "\n",
    "for x in e.Nbits:    \n",
    "    runtime = []\n",
    "    attempts = []  \n",
    "    for y in range(0, e.runs):\n",
    "        \n",
    "        #generating the correct pattern\n",
    "        e.pattern = e.generatePattern(x)  \n",
    "        patlist = [char for char in e.pattern]\n",
    "        \n",
    "        #generating the starting pattern\n",
    "        pattern = e.generatePattern(x)  \n",
    "        patlist2 = [char for char in pattern]\n",
    "        \n",
    "        #after converting the patterns to lists of bits they are ready for mutation since strings are imutable\n",
    "        fit = 0\n",
    "        turns = 0\n",
    "        goodmut = 0 \n",
    "        \n",
    "        start = timeit.default_timer() \n",
    "        #mutates the starting pattern checks its fitness and if it increases it updates the pattern until the correct one is reached\n",
    "        while(patlist2 != patlist and turns < 1000):\n",
    "            temp = e.mutate(patlist2)\n",
    "            tempfit = e.reverse_hamming(temp) \n",
    "            if(tempfit > fit):\n",
    "                patlist2 = temp\n",
    "                fit = tempfit\n",
    "                goodmut += 1\n",
    "            turns += 1\n",
    "        stop = timeit.default_timer()\n",
    "        \n",
    "        runtime.append(stop-start)\n",
    "        attempts.append(turns)   \n",
    "    runtimes.append(runtime)\n",
    "    mutations.append(attempts)\n",
    "    \n",
    "#Results generation\n",
    "plt.ylabel('Runtimes')\n",
    "plt.xlabel('Nº Bits')\n",
    "plt.title('Runtimes/Nºbits')\n",
    "plt.boxplot(runtimes, positions = e.Nbits)      \n",
    "plt.yscale(\"log\")\n",
    "plt.show()\n",
    "\n",
    "               \n",
    "plt.ylabel('Turns')\n",
    "plt.xlabel('Nº Bits')\n",
    "plt.title('Turns/Nºbits')\n",
    "plt.boxplot(mutations, positions = e.Nbits)     \n",
    "plt.show()\n",
    "print('Com o aumento do tamanho dos padrões é mais dificil atingir o padrão objetivo no entanto é possível observar uma redução dos números de turnos necessário para atingir o resultado')\n",
    "print('É possível então observar que para tamanhos de padrões elevados que não cheguem ao objetivo existirá sempre uma mutação que melhorará o valor de fitness')"
   ]
  },
  {
   "cell_type": "markdown",
   "id": "55edffe4-4f2f-4a80-b327-e49b5ddb2fd8",
   "metadata": {
    "jp-MarkdownHeadingCollapsed": true,
    "tags": []
   },
   "source": [
    "# Ex3"
   ]
  },
  {
   "cell_type": "code",
   "execution_count": 10,
   "id": "90501745-8269-45c2-b1fc-8d220409150b",
   "metadata": {},
   "outputs": [
    {
     "data": {
      "image/png": "[encoded data removed]",
      "text/plain": [
       "<Figure size 432x288 with 1 Axes>"
      ]
     },
     "metadata": {
      "needs_background": "light"
     },
     "output_type": "display_data"
    },
    {
     "data": {
      "image/png": "[encoded data removed]",
      "text/plain": [
       "<Figure size 432x288 with 1 Axes>"
      ]
     },
     "metadata": {
      "needs_background": "light"
     },
     "output_type": "display_data"
    },
    {
     "name": "stdout",
     "output_type": "stream",
     "text": [
      "É possível observar que o número de gerações criadas através de mutação é muito inferior no entanto apenas parte da população atinge o padrão objetivo pois chega um momento no qual a mutação dos 30% melhores apenas gera padrões com fitness inferior\n",
      "É tambem possível observar que os runtimes diminuiram face aos outros métodos de procura\n"
     ]
    }
   ],
   "source": [
    "random.seed(1)\n",
    "e = Environment()\n",
    "runtimes = []\n",
    "gens = []\n",
    "\n",
    "for nbits in e.Nbits:    \n",
    "    runtime = []\n",
    "    attempts = []  \n",
    "    for y in range(0, e.runs):    \n",
    "        \n",
    "        turns = 0\n",
    "        somatorio = 0\n",
    "        \n",
    "        #Generate the objetive pattern\n",
    "        e.pattern = e.generatePattern(nbits)  \n",
    "        \n",
    "        # create the inicial population\n",
    "        initial_population = []\n",
    "        a = 0\n",
    "        for a in range (0 , e.population):\n",
    "            initial_population.append(e.generatePattern(nbits))\n",
    "            a += 1\n",
    "            \n",
    "        #Best evaluation stagnates when max fitness is reached\n",
    "        #After reaching max fitness values of the 30% mutating only decreases their fitness making the max fitness the rest of population lower\n",
    "        max_fitness = e.percent*nbits + (e.population - e.percent)*(nbits-1)\n",
    "        \n",
    "        # evaluate the initial population\n",
    "        initial_fitness = [e.reverse_hamming(p) for p in initial_population]\n",
    "        \n",
    "        # merges population and its fitness\n",
    "        population = e.merge_sort(initial_population,initial_fitness)\n",
    "        \n",
    "        \n",
    "        start = timeit.default_timer() \n",
    "        while(somatorio  <  max_fitness):\n",
    "    \n",
    "            # selects the best % patterns (higher fitness)\n",
    "            best_percent = e.select(population) \n",
    "            \n",
    "            #gets the best patterns for mutation\n",
    "            best_pattern = [x[0] for x in best_percent]\n",
    "            best_pattern_list = []\n",
    "            for pattern in best_percent:\n",
    "                best_pattern_list.append(e.tolist(pattern))\n",
    "            \n",
    "            # generate the remaining population by mutating random best patterns\n",
    "            new_population = []\n",
    "            for b in range (0, e.population - e.percent):\n",
    "                choice = random.choice(best_pattern_list)[0]\n",
    "                patlist = e.mutate([char for char in choice])   # envia e recebe em list\n",
    "                newpat = e.tostring(patlist)                    # passa de list para string\n",
    "                new_population.append(newpat)\n",
    "                b += 1\n",
    "             \n",
    "            fit = [e.reverse_hamming(p) for p in new_population]\n",
    "            population = e.merge_sort(new_population,fit)\n",
    "            \n",
    "            \n",
    "            #puts lits together and sort the best old population and the mutated one\n",
    "            population.extend(best_percent)\n",
    "            \n",
    "            population = sorted(population, key=itemgetter(1), reverse=True)\n",
    "              \n",
    "            somatorio = sum([z[1] for z in population])\n",
    "            turns += 1   \n",
    "            \n",
    "        stop = timeit.default_timer()\n",
    "        runtime.append(stop-start)\n",
    "        attempts.append(turns)   \n",
    "    runtimes.append(runtime)\n",
    "    gens.append(attempts)\n",
    "    \n",
    "plt.ylabel('Runtimes')\n",
    "plt.xlabel('Nº Bits')\n",
    "plt.title('Runtimes/Nºbits')\n",
    "plt.boxplot(runtimes, positions = e.Nbits)      \n",
    "plt.show()\n",
    "\n",
    "               \n",
    "plt.ylabel('Generations Created')\n",
    "plt.xlabel('Nº Bits')\n",
    "plt.title('Generations/Nºbits')\n",
    "plt.boxplot(gens, positions = e.Nbits)     \n",
    "plt.show()\n",
    "\n",
    "print('É possível observar que o número de gerações criadas através de mutação é muito inferior no entanto apenas parte da população atinge o padrão objetivo pois chega um momento no qual a mutação dos 30% melhores apenas gera padrões com fitness inferior')\n",
    "print('É tambem possível observar que os runtimes diminuiram face aos outros métodos de procura')"
   ]
  },
  {
   "cell_type": "markdown",
   "id": "1cad08cd-e7b1-4d0d-b81f-50c32a10c8c0",
   "metadata": {
    "jp-MarkdownHeadingCollapsed": true,
    "tags": []
   },
   "source": [
    "# Ex4"
   ]
  },
  {
   "cell_type": "code",
   "execution_count": 11,
   "id": "87769a38-6210-4492-84e8-a678dfb1ad40",
   "metadata": {},
   "outputs": [
    {
     "data": {
      "image/png": "[encoded data removed]",
      "text/plain": [
       "<Figure size 432x288 with 1 Axes>"
      ]
     },
     "metadata": {
      "needs_background": "light"
     },
     "output_type": "display_data"
    },
    {
     "data": {
      "image/png": "[encoded data removed]",
      "text/plain": [
       "<Figure size 432x288 with 1 Axes>"
      ]
     },
     "metadata": {
      "needs_background": "light"
     },
     "output_type": "display_data"
    },
    {
     "name": "stdout",
     "output_type": "stream",
     "text": [
      "Tanto os runtimes como o número de gerações criadas através de crossover diminui bastante tornando o crossover mais eficiente que mutation\n"
     ]
    }
   ],
   "source": [
    "random.seed(1)\n",
    "e = Environment()\n",
    "runtimes = []\n",
    "genarations = []\n",
    "\n",
    "for nbits in e.Nbits:    \n",
    "    runtime = []\n",
    "    attempts = []  \n",
    "    for y in range(0, e.runs):    \n",
    "        \n",
    "        turns = 0\n",
    "        somatorio = 0\n",
    "        \n",
    "        #Generate the objetive pattern\n",
    "        e.pattern = e.generatePattern(nbits)  \n",
    "        \n",
    "        # create the inicial population\n",
    "        initial_population = []\n",
    "        a = 0\n",
    "        for a in range (0, e.population):\n",
    "            initial_population.append(e.generatePattern(nbits))\n",
    "        a += 1\n",
    "    \n",
    "        #Best evaluation stagnates when max fitness is reached\n",
    "        max_fitness = e.percent*nbits + (e.population - e.percent)*(nbits-1)\n",
    "        \n",
    "        # evaluate the initial population\n",
    "        initial_fitness = [e.reverse_hamming(p) for p in initial_population]\n",
    "        \n",
    "        # merges population and its fitness\n",
    "        population = e.merge_sort(initial_population,initial_fitness)\n",
    "        start = timeit.default_timer()\n",
    "        while(somatorio  <  max_fitness):\n",
    "    \n",
    "            # selects the best % patterns (higher fitness)\n",
    "            best_percent = e.select(population) \n",
    "            \n",
    "            # generate the remaining population by mutating random best patterns\n",
    "            new_population = []\n",
    "            for b in range (0, (e.population - e.percent), 2):\n",
    "                parent1 = random.choice(best_percent)\n",
    "                parent2 = random.choice(best_percent)\n",
    "                children1, children2 = e.crossover(parent1, parent2)\n",
    "                new_population.append(children1)\n",
    "                new_population.append(children2)\n",
    "                b += 1\n",
    "             \n",
    "            fit = [e.reverse_hamming(p) for p in new_population]\n",
    "            population = e.merge_sort(new_population,fit)\n",
    "            \n",
    "            \n",
    "            #puts list together and sort the best old population and the mutated one\n",
    "            population.extend(best_percent)\n",
    "            \n",
    "            population = sorted(population, key=itemgetter(1), reverse=True)\n",
    "              \n",
    "            somatorio = sum([z[1] for z in population])\n",
    "            turns += 1   \n",
    "\n",
    "   \n",
    "        stop = timeit.default_timer()\n",
    "        runtime.append(stop-start)\n",
    "        attempts.append(turns)   \n",
    "    runtimes.append(runtime)\n",
    "    genarations.append(attempts)\n",
    "    \n",
    "plt.ylabel('Runtimes')\n",
    "plt.xlabel('Nº Bits')\n",
    "plt.title('Runtimes/Nºbits')\n",
    "plt.boxplot(runtimes, positions = e.Nbits)      \n",
    "plt.show()\n",
    "\n",
    "               \n",
    "plt.ylabel('Generations Created')\n",
    "plt.xlabel('Nº Bits')\n",
    "plt.title('Generations/Nºbits')\n",
    "plt.boxplot(genarations, positions = e.Nbits)     \n",
    "plt.show()\n",
    "\n",
    "print('Tanto os runtimes como o número de gerações criadas através de crossover diminui bastante tornando o crossover mais eficiente que mutation')"
   ]
  },
  {
   "cell_type": "markdown",
   "id": "b397bef7-cf08-46ee-8b9f-f3c5ed81fa21",
   "metadata": {
    "jp-MarkdownHeadingCollapsed": true,
    "tags": []
   },
   "source": [
    "# Ex 6\n"
   ]
  },
  {
   "cell_type": "code",
   "execution_count": 18,
   "id": "02cfcb0f-9dd7-497e-af15-6a113628361c",
   "metadata": {},
   "outputs": [
    {
     "name": "stdout",
     "output_type": "stream",
     "text": [
      "1904 1964\n",
      "11101110000 11110101100\n",
      "['1', '1', '1', '0', '1', '1', '1', '0', '0', '0', '0'] ['1', '1', '1', '1', '0', '1', '0', '1', '1', '0', '0']\n",
      "['1', '1', '0', '0', '1', '1', '1', '0', '0', '0', '0'] ['1', '1', '1', '1', '0', '1', '0', '1', '1', '1', '0']\n",
      "11001110000 11110101110\n",
      "1648 1966\n"
     ]
    }
   ],
   "source": [
    "random.seed(1)\n",
    "e = Environment()\n",
    "\n",
    "val1 = 1904\n",
    "val2 = 1964\n",
    "print(val1,val2)\n",
    "# Necessário passar estes números para a base binário antes de enviar para as funções\n",
    "bitval1 = f\"{val1:b}\" \n",
    "bitval2 = f\"{val2:b}\" \n",
    "print(bitval1,bitval2)\n",
    "\n",
    "# Necessário passar para uma lista de bits para fazer flip\n",
    "patlist1 = e.tolist(bitval1)\n",
    "patlist2 = e.tolist(bitval2)\n",
    "print(patlist1,patlist2)\n",
    "\n",
    "# Faz a mutação\n",
    "mutated1 = e.mutate(patlist1)\n",
    "mutated2 = e.mutate(patlist2)\n",
    "print(mutated1,mutated2)\n",
    "\n",
    "# Passa para base binário e depois para base decimal\n",
    "mutatedbit1 = e.tostring(mutated1)\n",
    "mutatedbit2 = e.tostring(mutated2)\n",
    "print(mutatedbit1,mutatedbit2)\n",
    "\n",
    "# Passa de volta para base decimal\n",
    "mutatedval1 = int(mutatedbit1,2)\n",
    "mutatedval2 = int(mutatedbit2,2)\n",
    "print(mutatedval1,mutatedval2)\n",
    "\n",
    "\n",
    "# Para a função crossover é necessário igualmente passar os valores para binário e e depois de volta para base decimal"
   ]
  },
  {
   "cell_type": "code",
   "execution_count": null,
   "id": "433c39f5-a3e3-4f12-a617-3e7092f0b85f",
   "metadata": {},
   "outputs": [],
   "source": []
  }
 ],
 "metadata": {
  "kernelspec": {
   "display_name": "Python 3 (ipykernel)",
   "language": "python",
   "name": "python3"
  },
  "language_info": {
   "codemirror_mode": {
    "name": "ipython",
    "version": 3
   },
   "file_extension": ".py",
   "mimetype": "text/x-python",
   "name": "python",
   "nbconvert_exporter": "python",
   "pygments_lexer": "ipython3",
   "version": "3.9.1"
  }
 },
 "nbformat": 4,
 "nbformat_minor": 5
}
